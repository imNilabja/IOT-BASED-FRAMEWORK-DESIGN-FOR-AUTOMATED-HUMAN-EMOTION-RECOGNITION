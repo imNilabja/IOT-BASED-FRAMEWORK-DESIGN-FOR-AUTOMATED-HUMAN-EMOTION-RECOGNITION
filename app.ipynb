{
 "cells": [
  {
   "cell_type": "code",
   "execution_count": null,
   "id": "60f3bcfd",
   "metadata": {},
   "outputs": [
    {
     "name": "stdout",
     "output_type": "stream",
     "text": [
      " * Serving Flask app '__main__'\n",
      " * Debug mode: off\n"
     ]
    },
    {
     "name": "stderr",
     "output_type": "stream",
     "text": [
      "WARNING: This is a development server. Do not use it in a production deployment. Use a production WSGI server instead.\n",
      " * Running on http://127.0.0.1:5000\n",
      "Press CTRL+C to quit\n",
      "127.0.0.1 - - [07/Dec/2023 00:54:15] \"GET / HTTP/1.1\" 200 -\n",
      "C:\\Users\\KIIT\\AppData\\Local\\Programs\\Python\\Python310\\lib\\site-packages\\sklearn\\base.py:439: UserWarning: X does not have valid feature names, but RandomForestClassifier was fitted with feature names\n",
      "  warnings.warn(\n",
      "127.0.0.1 - - [07/Dec/2023 00:54:24] \"POST /predict HTTP/1.1\" 200 -\n"
     ]
    }
   ],
   "source": [
    "import numpy  as np\n",
    "from flask import Flask,request,jsonify,render_template \n",
    "import pickle\n",
    "\n",
    "app=Flask(__name__)\n",
    "model=pickle.load(open(\"model.pkl\",\"rb\"))\n",
    "\n",
    "@app.route(\"/\")\n",
    "def Home():\n",
    "    return render_template(\"hello.html\")\n",
    "\n",
    "@app.route(\"/predict\",methods=[\"POST\"])\n",
    "def predict():\n",
    "    float_features= [float(x) for x in request.form.values()]\n",
    "    features=[np.array(float_features)]\n",
    "    prediction=model.predict(features)\n",
    "    \n",
    "    return render_template(\"hello.html\", prediction_text=\"the emotion is {}\".format(prediction))\n",
    "\n",
    "if __name__==\"__main__\":\n",
    "    app.run()"
   ]
  },
  {
   "cell_type": "code",
   "execution_count": null,
   "id": "764a4a0d",
   "metadata": {},
   "outputs": [],
   "source": []
  },
  {
   "cell_type": "code",
   "execution_count": null,
   "id": "9b794ca2",
   "metadata": {},
   "outputs": [],
   "source": []
  }
 ],
 "metadata": {
  "kernelspec": {
   "display_name": "Python 3 (ipykernel)",
   "language": "python",
   "name": "python3"
  },
  "language_info": {
   "codemirror_mode": {
    "name": "ipython",
    "version": 3
   },
   "file_extension": ".py",
   "mimetype": "text/x-python",
   "name": "python",
   "nbconvert_exporter": "python",
   "pygments_lexer": "ipython3",
   "version": "3.10.9"
  }
 },
 "nbformat": 4,
 "nbformat_minor": 5
}
