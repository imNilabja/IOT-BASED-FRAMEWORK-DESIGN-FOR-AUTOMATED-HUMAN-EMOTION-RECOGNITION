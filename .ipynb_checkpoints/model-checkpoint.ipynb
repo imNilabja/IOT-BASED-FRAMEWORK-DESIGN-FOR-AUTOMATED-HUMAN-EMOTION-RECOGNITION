{
 "cells": [
  {
   "cell_type": "code",
   "execution_count": 10,
   "id": "a892e69d",
   "metadata": {},
   "outputs": [
    {
     "name": "stdout",
     "output_type": "stream",
     "text": [
      "Random Forest accuracy: 88.67924528301887\n",
      "Random Forest classification report:\n",
      "               precision    recall  f1-score   support\n",
      "\n",
      "       Anger       1.00      0.82      0.90        11\n",
      "       Fear        0.75      1.00      0.86        12\n",
      "         Joy       0.93      0.81      0.87        16\n",
      "      Normal       0.93      0.93      0.93        14\n",
      "\n",
      "    accuracy                           0.89        53\n",
      "   macro avg       0.90      0.89      0.89        53\n",
      "weighted avg       0.90      0.89      0.89        53\n",
      "\n"
     ]
    }
   ],
   "source": [
    "import pandas as pd\n",
    "from sklearn.model_selection import train_test_split\n",
    "from sklearn.svm import SVC\n",
    "from sklearn.tree import DecisionTreeClassifier\n",
    "from sklearn.neighbors import KNeighborsClassifier\n",
    "from sklearn.naive_bayes import GaussianNB\n",
    "from sklearn.ensemble import RandomForestClassifier\n",
    "from sklearn.metrics import confusion_matrix\n",
    "from sklearn import metrics\n",
    "from sklearn.metrics import accuracy_score, classification_report\n",
    "import pickle\n",
    "df = pd.read_csv('combined_data_csv.csv')\n",
    "\n",
    "X = df[['GSR Data', 'ECG Data']]\n",
    "y = df['Predicted_Emotion']\n",
    "\n",
    "X_train, X_test, y_train, y_test = train_test_split(X, y, test_size=0.2, random_state=42)\n",
    "\n",
    "rf = RandomForestClassifier(n_estimators=100, random_state=10)\n",
    "rf.fit(X_train, y_train)\n",
    "rf_y_pred = rf.predict(X_test)\n",
    "rf_accuracy = accuracy_score(y_test, rf_y_pred) * 100\n",
    "rf_classification_report = classification_report(y_test, rf_y_pred)\n",
    "\n",
    "print(\"Random Forest accuracy:\", rf_accuracy)\n",
    "print(\"Random Forest classification report:\\n\", rf_classification_report)\n",
    "\n",
    "\n",
    "pickle.dump(rf,open(\"model.pkl\",\"wb\"))\n",
    "\n"
   ]
  },
  {
   "cell_type": "code",
   "execution_count": null,
   "id": "73337c40",
   "metadata": {},
   "outputs": [],
   "source": []
  }
 ],
 "metadata": {
  "kernelspec": {
   "display_name": "Python 3 (ipykernel)",
   "language": "python",
   "name": "python3"
  },
  "language_info": {
   "codemirror_mode": {
    "name": "ipython",
    "version": 3
   },
   "file_extension": ".py",
   "mimetype": "text/x-python",
   "name": "python",
   "nbconvert_exporter": "python",
   "pygments_lexer": "ipython3",
   "version": "3.10.9"
  }
 },
 "nbformat": 4,
 "nbformat_minor": 5
}
